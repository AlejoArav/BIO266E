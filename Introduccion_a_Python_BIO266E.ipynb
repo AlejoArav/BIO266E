{
 "cells": [
  {
   "cell_type": "markdown",
   "metadata": {},
   "source": [
    "# Introducción a Python - BIO266E"
   ]
  },
  {
   "cell_type": "markdown",
   "metadata": {},
   "source": [
    "# (Este es un borrador del cuadernillo final, cualquier modificación/comentario/sugerencia es bienvenida!)"
   ]
  },
  {
   "cell_type": "markdown",
   "metadata": {},
   "source": [
    "* Agregar info de:\n",
    "    - Como utilizarlo en Binder\n",
    "    - Como utilizarlo en Google Colab\n",
    "    - Como descargar el cuadernillo en formato PDF\n",
    "    - Como buscar las imagenes que han sido guardadas\n",
    "    - No se me ocurre más por ahora (favor mencionar si se me olvida algo)"
   ]
  },
  {
   "cell_type": "markdown",
   "metadata": {},
   "source": [
    "# Tabla de Contenidos\n",
    "1. [Bioquímica y Programación](#punto1)\n",
    "2. [¿Por qué?](#punto2)\n",
    "3. [Conceptos básicos de Python](#punto3)\n",
    "    1. [Tipos de datos](#subpunto3_1)\n",
    "    2. [Comentarios utilizando ```#```](#subpunto3_2)\n",
    "    3. [Función ```print()```](#subpunto3_3)\n",
    "    4. [Variables](#subpunto3_4)\n",
    "    5. [Listas](#subpunto3_5)\n",
    "    6. [Indentación del código (¿```tab``` o ```spaces```?)](#subpunto3_6)\n",
    "4. [Condicionales, bucles y funciones](#punto4)\n",
    "    1. [Expresiones de condición (```if```, ```elif``` y ```else```)](#subpunto4_1)\n",
    "    2. [Uso de bucles (```while``` y ```for```)](#subpunto4_2)\n",
    "    3. [Definición y uso de funciones](#subpunto4_3)\n",
    "5. [Datos y Gráficos](#punto5)\n",
    "    1. [Pandas](#subpunto5_1)\n",
    "    2. [Numpy](#subpunto5_2)\n",
    "    3. [Matplotlib](#subpunto5_3)"
   ]
  },
  {
   "cell_type": "markdown",
   "metadata": {},
   "source": [
    "## 1. Bioquímica y Programación <a name=\"punto1\"></a>"
   ]
  },
  {
   "cell_type": "markdown",
   "metadata": {},
   "source": [
    "### Acá poner imagen de una vía metabólica (o de regulación génica). Al lado poner imagen de un pedazo de código que incluya variables, funciones, operadores, etc. Hacer analogía estructura de un código con estructura de una vía bioquímica"
   ]
  },
  {
   "cell_type": "markdown",
   "metadata": {},
   "source": [
    "### ¿Qué *similitudes* se pueden observar entre las dos imagenes?<a name=\"subpunto1\"></a>\n",
    "\n",
    "- Podemos identificar un vocabulario de **palabras**, **abreviaciones** y **símbolos**. Cada compuesto tiene un **nombre** específico, el cual depende de ciertas propiedades que posea. Los **símbolos** utilizados determinan la direccionalidad de la reacción, o si el compuesto que reacciona se encuentra ionizado o posee alguna propiedad. (hacer analogía a la variedad de tipos de datos)\n",
    "\n",
    "- Existe una determinada **sintaxis** de la vía. Esto significa que para llegar a un determinado producto, **se debe seguir una serie de reacciones en un órden determinado**. Al cambiar componentes de la vía es posible que no se pueda llevar a cabo, o que se obtenga un producto distinto. (hacer analogía a sintaxis de python; cómo se debe escribir; cómo se ejecuta (top to bottom))\n",
    "\n",
    "- Una **secuencia de operaciones** que se deben realizar en un orden determinado. Cada reacción depende de cambios moleculares de cada compuesto involucrado, y si no se llevan a cabo correctamente se detiene la reacción. (hacer analogía a condicionales)\n",
    "\n",
    "- Si observaramos estas vías metabólicas durante un tiempo, muchas de ellas se **llevarían a cabo varias veces** (como un **bucle**). (hacer analogía a bucles)\n",
    "\n",
    "- En muchas ocaciones se requerirá que una vía determinada requiera de un producto que depende de otra vía, lo que se podría considerar como una **función** (donde la vía A depende de la vía B). (hacer analogía a funciones)\n",
    "\n",
    "- Cada compuesto puede considerarse como un **dato** que será **utilizado, creado o modificado**. (hacer analogía a Variables)\n",
    "\n",
    "- Existen **herramientas** que son utilizadas para trabajar con los datos descritos anteriormente, tal como enzimas, catalizadores, co-factores, entre otras. (hacer analogía a modulos de python; como estos ayudan a llevar a cabo lo que requiero)\n",
    "\n",
    "- Finalmente, se espera un resultado. Un conjunto de reacciones dará lugar a un determinado compuesto, el cual podrá ser utilizado por otras reacciones como sustrato o como co-factor o quizás inhibe la reacción. (acá nuevamente analogía a funciones, o resultados de operaciones, condicionales, etc.)"
   ]
  },
  {
   "cell_type": "markdown",
   "metadata": {},
   "source": [
    "## 2. ¿Por qué? <a name=\"punto2\"></a>"
   ]
  },
  {
   "cell_type": "markdown",
   "metadata": {},
   "source": [
    "**¿Por qué Python?**\n",
    "\n",
    "Es considerado un buen lenguaje para programación en general. La manera en la que fue diseñado lo hace un lenguaje de programación legible (esto es más importante de lo que se considera), ya que un programa computacional es escrito por una persona o un equipo de personas, pero es leído y revisado por muchas personas. El ser un lenguaje de programación legible también convierte a python en un lenguaje **escribible** (Sí, existe esta [palabra](https://spanish.stackexchange.com/questions/32935/algo-en-que-se-puede-escribir-o-agregar-escribible-o-agregable))\n",
    "\n",
    "**¿Por qué *no* Python?**\n",
    "\n",
    "Quizás la razón más aceptada es que python no es el mejor lenguaje para todas las situaciones. Si bien es lo suficientemente rápido para la mayoría de las aplicaciones, no lo será para todas. Si un programa depende mayoritariamente de la CPU (utilizado en cálculos), al escribirlo y ejecutarlo en C, C++, C#, o Java (entre otros lenguajes) seguramente se ejecute más rápido (pero no siempre). \n",
    "\n",
    "**¿Por qué Jupyter?**\n",
    "\n",
    "Jupyter es una herramienta *gratis y de código abierto* implementada como cuadernillos computacionales, mediante los cuales es posible combinar el código escrito, los resultados arrojados por el código, texto explicativo y recursos multimedia en un solo documento. Además, en el ámbito educativo son utilizados exhaustivamente ya que poseen la cualidad de ser *interactivos*, lo que permite ejecutar código, ver resultados, modificar  el código, ver resultados en lo que se convierte en una conversación entre el investigador y los datos. Un cuadernillo tiene dos componentes. Los usuarios escriben código o texto en *celdas rectangulares* en una página con interfaz gráfica. Al ejecutar las celdas, el código es derivado a un 'kernel' que corre el código y le devuelve al usuario un resultado.\n",
    "\n",
    "Existen servicios (como **Binder**) que le permiten a los usuarios utilizar cuadernillos Jupyter directamente en un navegador web, sin necesidad de instalar el software o librerias de programación."
   ]
  },
  {
   "cell_type": "markdown",
   "metadata": {},
   "source": [
    "# ***¡Importante!*** <a name=\"correr_celdas\"></a>\n",
    "\n",
    "De aquí en adelante se encontrará con celdas que contienen código. Este codigo puede ser utilizado y modificado (sin emabrgo para este cuadernillo no se recomienda esto último). Para poder ejecutar el código en una celda, debe hacer click en ```In []``` (al lado izquierdo de la celda) y luego puede hacer click en el botón \"Run\" ubicado en la barra superior, o bien **presionar ```Shift + Enter``` en su teclado** (se recomienda esto último)."
   ]
  },
  {
   "cell_type": "markdown",
   "metadata": {},
   "source": [
    "## 3. Conceptos básicos de Python <a name=\"punto3\"></a>"
   ]
  },
  {
   "cell_type": "markdown",
   "metadata": {},
   "source": [
    "### 3.1 Tipos de datos <a name=\"subpunto3_1\"></a>"
   ]
  },
  {
   "cell_type": "markdown",
   "metadata": {},
   "source": [
    "A continuación se ilustran algunos de los tipos de datos que se utilizan en python. Estos son asignados automaticamente por python según la asignación que haga le usuarie, por lo que es responsabilidad de le usuarie chequear el tipo de dato para que no se produzcan errores en el código."
   ]
  },
  {
   "cell_type": "markdown",
   "metadata": {},
   "source": [
    "|     Nombre     |       Tipo       | Mutable? |                          Ejemplo                         |\n",
    "|:--------------:|:----------------:|:--------:|:--------------------------------------------------------:|\n",
    "|    Booleano    |    ```bool```    |    No    |                     ```True, False```                    |\n",
    "|     Entero     |     ```int```    |    No    |                      ```47, 1000```                      |\n",
    "| Punto Flotante |    ```float```   |    No    |                 ```2.71, 3.14, 10.2e2```                 |\n",
    "|    Complejo    |   ```complex```  |    No    |                     ```7j, 1 + 5j```                     |\n",
    "|      Texto     |     ```str```    |    No    |              ```'hola', \"que\", '''tal'''```              |\n",
    "|      Lista     |    ```list```    |    Si    |               ```['Uno', 2, 'Tres', 4j]```               |\n",
    "|      Tuple     |    ```tuple```   |    No    |                     ```(3, 9, 27)```                     |\n",
    "|      Bytes     |    ```bytes```   |    No    |                      ```b'ab\\xff'```                     |\n",
    "|       Set      |     ```set```    |    Si    |                   ```set([1, 3, 5])```                   |\n",
    "|   Frozen Set   | ```frozen set``` |    No    |           ```frozenset(['Uno', 7, 'Veinte'])```          |\n",
    "|   Diccionario  |    ```dict```    |    Si    | ```{'nombre': 'Firulais', 'tipo': 'perro', 'edad': 7}``` |"
   ]
  },
  {
   "cell_type": "markdown",
   "metadata": {},
   "source": [
    "Algunos tipos de datos pueden interactuar entre si y con otros, mientras que algunos solamente pueden interactuar entre si. Algunas de las operaciones que se utilizan para llevar a cabo estas interacciones se detallan a continuación."
   ]
  },
  {
   "cell_type": "markdown",
   "metadata": {},
   "source": [
    "|          Operador         |    Descripción    |        Ejemplo       |  Resultado  |\n",
    "|:-------------------------:|:-----------------:|:--------------------:|:-----------:|\n",
    "|      **Aritméticos**      |                   |                      |             |\n",
    "|          ```+```          |        Suma       |      ```1 + 2```     |   ```3```   |\n",
    "|          ```-```          |       Resta       |      ```2 - 1```     |   ```1```   |\n",
    "|          ```-```          |      Negación     |       ```-7```       |   ```-7```  |\n",
    "|          ```*```          |   Multiplicación  |       ```2*4```      |   ```8```   |\n",
    "|          ```**```         |     Exponente     |      ```2**6```      |   ```64```  |\n",
    "|          ```/```          |      División     |       ```4/2```      | *```2.0```* |\n",
    "|          ```//```         |  División Entera  |      ```5//2```      |   ```2```   |\n",
    "|          ```%```          |       Módulo      |       ```5%2```      |   ```1```   |\n",
    "| **Lógicos y de Relación** |                   |                      |             |\n",
    "|         ```and```         | ¿Se cumple a y b? | ```True and False``` | ```False``` |\n",
    "|          ```or```         | ¿Se cumple a o b? |  ```True or False``` |  ```True``` |\n",
    "|         ```not```         |     Opuesto de    |    ```not True```    | ```False``` |\n",
    "|          ```==```         |    Equivalencia   |  ```True == False``` | ```False``` |\n",
    "|          ```!=```         |     Diferencia    |  ```True != False``` |  ```True``` |\n",
    "|          ```<```          |     Menor que     |      ```5 < 3```     | ```False``` |\n",
    "|          ```>```          |     Mayor que     |      ```5 > 3```     |  ```True``` |\n",
    "|          ```<=```         | Menor o igual que |     ```5 <= 3```     | ```False``` |\n",
    "|          ```>=```         | Mayor o igual que |     ```5 >= 5```     |  ```True``` |"
   ]
  },
  {
   "cell_type": "markdown",
   "metadata": {},
   "source": [
    "### 3.2 Comentarios en el código utilizando ```#``` <a name=\"subpunto3_2\"></a>"
   ]
  },
  {
   "cell_type": "markdown",
   "metadata": {},
   "source": [
    "El código escrito al programar es básicamente los pensamientos que une hace para resolver problemas utilizando un computador. Sin embargo, un mismo problema puede resolverse de distintas formas, o incluso de la misma forma con lógica distinta. Para esto sirven los **comentarios**; lineas de palabras **que no son consideradas código ejecutable** y ayudan a explicar el proceso cognitivo, para que de esta manera sea más fácil comprender el código. Los comentarios también son útiles para la detección y corrección de errores.\n",
    "\n",
    "Una línea en forma de comentario comienza con el símbolo conocido como la almohadilla, hash o gato ```#``` y le sigue el texto que contiene la explicación o descripción. A continuación se illustran distintas maneras de escribir un comentario.\n",
    "\n",
    "* *Importante*: Un símbolo ```#``` dentro de un texto en formato string **NO** es considerado comentario, sino parte del texto."
   ]
  },
  {
   "cell_type": "code",
   "execution_count": null,
   "metadata": {},
   "outputs": [],
   "source": [
    "# Este es un comentario de una línea\n",
    "# Estos generalmente tienen un máximo de 80 caracteres\n",
    "\n",
    "# Para escribir comentarios de varias líneas es posible utilizar\n",
    "# el símbolo hash en líneas distintas. Python no soporta comentarios\n",
    "# de muchas líneas por defecto, pero existen formas de hacer un \n",
    "# bypass a esto.\n",
    "\n",
    "'''\n",
    "Otra manera de escribir un comentario (generalmente como documentación de una función), es entre líneas que contengan 3 apóstrofes (o comillas). Este bloque de texto que se escriba se considera un 'comentario' por la comunidad, aunque oficialmente no sea considerado como tal. Como se observa, no es necesario utilizar el hash para iniciar el comentario en cada línea, y el comentario puede tener tantas líneas como se necesite (aunque no se recomiendan muchas).\n",
    "'''"
   ]
  },
  {
   "cell_type": "markdown",
   "metadata": {},
   "source": [
    "### 3.3 Función ```print()``` <a name=\"subpunto3_3\"></a>"
   ]
  },
  {
   "cell_type": "markdown",
   "metadata": {},
   "source": [
    "Antes de comenzar a escribir cualquier programa es necesario explicar en la funcionalidad de una de las funciones más importante que se utiliza en python:\n",
    "```python\n",
    "print()\n",
    "```\n",
    "La función print() es una función que (tal como dice) ***imprime en la consola lo que se le pida que imprima***. Es una de las herramientas más útiles en el lenguaje de python, ya que permite depurar los programas escritos (encontrar, arreglar y/o remover errores dentro del código). Además, permite al usuario tener cierto feedback de lo que el programa está ejecutando en un momento dado.\n",
    "\n",
    "A continuación se muestran algunos ejemplos de uso de la función ```print()``` (***recordar cómo se ejecutan las celdas, explicado [aquí](#correr_celdas)***)"
   ]
  },
  {
   "cell_type": "code",
   "execution_count": null,
   "metadata": {
    "scrolled": false,
    "tags": []
   },
   "outputs": [],
   "source": [
    "# La función print permite input en forma de cualquiera de los tipos de variables\n",
    "print('Yo imprimo cosas', '\\n')\n",
    "\n",
    "# Permite unir texto en forma de strings utilizando el operador aritmético '+'\n",
    "print('Esto será'+' un solo'+' texto', '\\n')\n",
    "\n",
    "# También es posible imprimir una varios tipos de datos juntos, utilizando comas entre ellos\n",
    "print('Para imprimir el numero', 3, 'es necesario utilizar una coma. \\\n",
    "También puedo imprimir', 3.0, 'como punto flotante.', '\\n')\n",
    "\n",
    "# Es posible formatear el texto a imprimir utilizando brackets curvos '{}'\n",
    "numero = 5\n",
    "print('Puedo imprimir un numero {} de esta forma'.format(numero))\n",
    "print('O imprimirlo así {numero}'.format(numero=10))"
   ]
  },
  {
   "cell_type": "markdown",
   "metadata": {},
   "source": [
    "### 3.4 Variables <a name=\"subpunto3_4\"></a>"
   ]
  },
  {
   "cell_type": "markdown",
   "metadata": {},
   "source": [
    "Un concepto clave en los lenguajes de computación son las **variables**. Python, como la mayoría de los lenguajes computacionales, permiten definir variables, que son *nombres que se le asignan a valores en la memoria computacional*. Existen ciertas reglas para definir variables, las que se resumen en la siguiente lista:\n",
    "- Sólo pueden conetener los siguientes caracteres:\n",
    "<br/><br/>\n",
    "    * Letras minúsculas (```a - z```)\n",
    "    * Letras mayúsculas (```A - Z```)\n",
    "    * Dígitos (```0 - 9```)\n",
    "    * Guión bajo (```_```)\n",
    "<br/><br/>\n",
    "- Distinguen entre mayúsculas y minúsculas: ```Primera_Variable``` no es lo mismo que ```PRIMERA_VARIABLE```.\n",
    "- No pueden comenzar con un dígito.\n",
    "- Nombres de variables que comiencen con un guión bajo se trataran de manera diferente (no se profundizará en esto).\n",
    "- No pueden ser ninguna de las *palabras reservadas* de python (el código ```help('keywords')``` retorna una lista de las palabras reservadas).\n",
    "\n",
    "Una vez que se escoge un nombre de variable que cumpla con todos los requisitos, se debe *asignar* un valor a esta variable. Para hacer esto, se ocupa el símbolo ```=```, y al correr el código, el programa interpreta lo escrito como *asigna el valor de la derecha a la variable de la izquierda*.\n",
    "\n",
    "A continuación se muestra la asignación de diferentes valores y tipos de datos que se utilizan en python a variables."
   ]
  },
  {
   "cell_type": "code",
   "execution_count": null,
   "metadata": {},
   "outputs": [],
   "source": [
    "# Mover a archivo .py con todo el backend; esto es para darle color y formato al texto retornado por print()\n",
    "class color:\n",
    "    MORADO = '\\033[95m'\n",
    "    CELESTE = '\\033[96m'\n",
    "    CELESTE_OSCURO = '\\033[36m'\n",
    "    AZUL = '\\033[94m'\n",
    "    VERDE = '\\033[92m'\n",
    "    AMARILLO = '\\033[93m'\n",
    "    ROJO = '\\033[91m'\n",
    "    NEGRITA = '\\033[1m'\n",
    "    SUBRAYADO = '\\033[4m'\n",
    "    FIN = '\\033[0m'"
   ]
  },
  {
   "cell_type": "code",
   "execution_count": null,
   "metadata": {
    "tags": []
   },
   "outputs": [],
   "source": [
    "# Ejemplo de entero\n",
    "soy_un_numero = 1\n",
    "print(color.NEGRITA+'Acá se asigna el nombre de variable soy_un_numero al entero 1\\n'+color.FIN)\n",
    "print(soy_un_numero, '\\n', type(soy_un_numero), '\\n', bool(soy_un_numero), '\\n')\n",
    "\n",
    "# Ejemplo de texto\n",
    "soy_texto = '1'\n",
    "print(color.NEGRITA+'Acá se asigna el nombre de variable soy_texto a un texto que contiene el número 1\\n'+color.FIN)\n",
    "print(soy_texto, '\\n', type(soy_texto), '\\n', bool(soy_texto), '\\n')\n",
    "\n",
    "# Ejemplo de flotante\n",
    "soy_flotante = 1.0\n",
    "print(color.NEGRITA+'Acá se asigna el nombre de variable soy_flotante al número 1 en forma decimal\\n'+color.FIN)\n",
    "print(soy_flotante, '\\n', type(soy_flotante), '\\n', bool(soy_flotante), '\\n')\n",
    "\n",
    "# Ejemplo de lista\n",
    "soy_una_lista = [soy_un_numero, soy_texto, soy_flotante]\n",
    "print(color.NEGRITA+'Acá se asigna el nombre de variable soy_una_lista a una lista compuesta por las tres variables definidas previamente\\n'+color.FIN)\n",
    "print(soy_una_lista, '\\n', type(soy_una_lista), '\\n', bool(soy_una_lista), '\\n')\n",
    "\n",
    "# Ejemplo de tuple\n",
    "soy_un_tuple = (soy_un_numero, soy_texto, soy_flotante)\n",
    "print(color.NEGRITA+'Acá se asigna el nombre de variable soy_un_tuple a un tuple compuesto por las tres variables definidas previamente\\n'+color.FIN)\n",
    "print(soy_un_tuple, '\\n', type(soy_un_tuple), '\\n', bool(soy_un_tuple), '\\n')\n",
    "\n",
    "# Ejemplo de diccionario\n",
    "soy_un_diccionario = {'numero': soy_un_numero, 'texto': soy_texto, 'flotante': soy_flotante}\n",
    "print(color.NEGRITA+'Acá se asigna el nombre de variable soy_un_diccionario a un diccionario compuesto por las tres variables definidas previamente\\n'+color.FIN)\n",
    "print(soy_un_diccionario, '\\n', type(soy_un_diccionario), '\\n', bool(soy_un_diccionario), '\\n')"
   ]
  },
  {
   "cell_type": "markdown",
   "metadata": {},
   "source": [
    "### 3.5 Listas <a name=\"subpunto3_5\"></a>"
   ]
  },
  {
   "cell_type": "markdown",
   "metadata": {},
   "source": [
    "Las listas en python son útiles para almacenar datos que requieren de un cierto orden, especialmente si el orden y el contenido está sujeto a cambios. Las listas son un ejemplo de tipos de datos *mutables*. Se pueden agregar, sacar, reemplazar o cambiar elementos, además de permitir repeticiones de un mismo elemento (en otras estructuras de datos no se permite esto último). Las listas pueden crearse vacías, a partir de un elemento iterable (como un string u otra lista). \n",
    "\n",
    "* Para el siguiente ejemplo se crea una lista utilizando la función ```range()```, la cual toma como argumentos un entero donde inicia el rango y un entero donde finaliza. Opcionalmente se puede agregar como argumento un entero que indique el paso al cual aumenta el conteo."
   ]
  },
  {
   "cell_type": "code",
   "execution_count": null,
   "metadata": {
    "tags": []
   },
   "outputs": [],
   "source": [
    "# En este caso, la lista serán números del 1 al 10\n",
    "lista_uno = [numero for numero in range(1, 11)]\n",
    "print('La lista uno es:', lista_uno, '\\n')\n",
    "\n",
    "# De las lista se puede obtener la cantidad de elementos utilizando len(lista a consultar)\n",
    "largo_lista_uno = len(lista_uno)\n",
    "print('La lista uno tiene', largo_lista_uno, 'elementos', '\\n')\n",
    "\n",
    "# Se puede acceder a un dato de la lista utilizando brackets después del nombre de la lista y\n",
    "# poniendo el índice del elemento a extraer (recordar el desfase que existe!)\n",
    "quinto_elemento = lista_uno[4]\n",
    "print('El quinto elemento de la lista es:', quinto_elemento, '\\n')\n",
    "\n",
    "# Puedo modificar los elementos que ya están en la lista asignandoles un valor como si fuesen variables\n",
    "lista_uno[4] = 100\n",
    "quinto_elemento = lista_uno[4]\n",
    "print('La lista uno modificada es:', lista_uno)\n",
    "print('El quinto elemento de la lista modificada es:', quinto_elemento, '\\n')\n",
    "\n",
    "# Se puede verificar si se encuentra un determinado valor o elemento en la lista con 'in'\n",
    "valor = 5\n",
    "esta_el_valor = 5 in lista_uno\n",
    "print('¿Esta el valor', valor, 'en la lista?:', esta_el_valor, '\\n')\n",
    "\n",
    "# Se les puede agregar elementos al final utilizando lista.append()\n",
    "agregar = 50\n",
    "lista_uno.append(agregar)\n",
    "print('Se le agrega un valor al final:', lista_uno, '\\n')\n",
    "\n",
    "# También es posible agregar elementos en un índice determinado se utiliza lista.insert()\n",
    "indice = 4\n",
    "lista_uno.insert(indice, 5)\n",
    "print('Nuevamente cambia la lista:', lista_uno)\n",
    "print('Ahora el quinto elemento es:', lista_uno[4])\n",
    "print('Y el número de elementos es:', len(lista_uno), '\\n')\n",
    "\n",
    "# Para eliminar elementos se utiliza lista.remove()\n",
    "lista_uno.remove(5)\n",
    "print('Fue un error incorporar el valor, se ha eliminado, la lista queda así:', lista_uno, '\\n')"
   ]
  },
  {
   "cell_type": "markdown",
   "metadata": {},
   "source": [
    "### 3.6 Indentación del código <a name=\"subpunto3_6\"></a>"
   ]
  },
  {
   "cell_type": "markdown",
   "metadata": {},
   "source": [
    "Antes de comenzar la siguiente sección, es importante destacar que en python es muy común el uso de bucles, funciones, y expresiones condicionles. El código escrito que se quiera ejecutar al cumplirse cierta condición, el código que ejecute una función determinada o el código que ejecute un bucle debe estar **anidado o _indentado_** dentro de la condición, la función o el bucle, y para lograr esto se utiliza la ***indentación***, utilizando la tecla ```tab``` o utilizando **4 espacios** (esta última forma de indentación es la aceptada según el estándar *PEP8*)."
   ]
  },
  {
   "cell_type": "code",
   "execution_count": null,
   "metadata": {
    "scrolled": true,
    "tags": []
   },
   "outputs": [],
   "source": [
    "print('''\n",
    "Este texto comienza desde el extremo izquierdo\n",
    "    pero ahora está indentado, lo que significa\n",
    "    que el texto se movió 4 espacios hacia la derecha.\n",
    "\n",
    "Se puede realizar una indentación cuantas veces se estime necesario,\n",
    "    sin embargo\n",
    "        se debe tener en cuenta\n",
    "            que al llegar al final del código indentado\n",
    "        se volverá a la indentación anterior\n",
    "    y continuará en la misma indentación\n",
    "hasta llegar al extremo izquierdo nuevamente.\n",
    "''')"
   ]
  },
  {
   "cell_type": "markdown",
   "metadata": {},
   "source": [
    "## 4. Expresiones condicionales, bucles y funciones <a name=\"punto4\"></a>"
   ]
  },
  {
   "cell_type": "markdown",
   "metadata": {},
   "source": [
    "### 4.1 Condicionales ```if```, ```elif``` y ```else``` <a name=\"subpunto4_1\"></a>"
   ]
  },
  {
   "cell_type": "markdown",
   "metadata": {},
   "source": [
    "Ahora comenzamos con un ejemplo de condiciones que se pueden utilizar en un programa. Análogamente a lo que sucede en las vías bioquímicas, en las cuales se pueden tomar distintos caminos dependiendo de las condiciones celulares, ambientales, etc., en programación se pueden imponer ciertas condiciones al programa, el cual ejecutará diferentes partes de código dependiendo de lo que se cumpla o no."
   ]
  },
  {
   "cell_type": "code",
   "execution_count": null,
   "metadata": {
    "scrolled": true,
    "tags": []
   },
   "outputs": [],
   "source": [
    "condicion_uno = True\n",
    "condicion_dos = False\n",
    "\n",
    "# Para poner a prueba condiciones se utiliza if:\n",
    "# El código que vaya a ser ejecutado en caso de cumplirse la condición debe estar indentado!\n",
    "if condicion_uno:\n",
    "    print('La primera condición se cumple', '\\n')\n",
    "if not condicion_uno:\n",
    "    print('La primera condición no se cumple', '\\n')\n",
    "\n",
    "# En caso de querer ejecutar cierto código cuando NO se cumpla la condición se utiliza else:\n",
    "if condicion_dos:\n",
    "    print('La segunda condición se cumple', '\\n')\n",
    "else:\n",
    "    print('La segunda condición no se cumple', '\\n')\n",
    "\n",
    "# También es posible combinar expresiones booleanas en una expresión condicional\n",
    "# Y además evaluar varias condiciones\n",
    "if condicion_uno and condicion_dos:\n",
    "    print('Se cumplen ambas condiciones', '\\n')\n",
    "elif condicion_uno or condicion_dos:\n",
    "    print('Se cumple una de las condiciones', '\\n')\n",
    "else:\n",
    "    print('Ninguna de las condiciones se cumple', '\\n')\n",
    "\n",
    "# Es posible anidar condiciones dentro de condiciones\n",
    "condicion_tres = True\n",
    "\n",
    "if condicion_uno:\n",
    "    print('Se cumple la condición para ejecutar el primer bloque')\n",
    "    if condicion_dos:\n",
    "        print('Se cumple la primera condición y la segunda condición', '\\n')\n",
    "    elif condicion_tres:\n",
    "        print('Se cumple la primera condición y la tercera condición', '\\n')\n",
    "elif condicion_dos:\n",
    "    print('Se cumple la condición para ejecutar el segundo bloque')\n",
    "    if condicion_uno:\n",
    "        print('Se cumple la segunda condición y la primera condición', '\\n')\n",
    "    elif condicion_tres:\n",
    "        print('Se cumple la segunda condición y la tercera condición', '\\n')"
   ]
  },
  {
   "cell_type": "markdown",
   "metadata": {},
   "source": [
    "Es posible anidar tantas condiciones como se quiera, sin embargo hay que tener en cuenta que la ***primera condición que se cumpla será la que se ejecute y no se ejecutarán las demás***."
   ]
  },
  {
   "cell_type": "markdown",
   "metadata": {},
   "source": [
    "### 4.2 Bucles ```while``` y  ```for``` <a name=\"subpunto4_2\"></a>"
   ]
  },
  {
   "cell_type": "markdown",
   "metadata": {},
   "source": [
    "El añadir condiciones con ```if```, ```elif``` y ```else``` es útil al evaluar una o más expresiones *una sola vez*. Sin embargo, hay situaciones en las cuales se deben realizar operaciones o revisar condiciones más de una vez, generalmente hasta que se cumpla una cierta condición. Para esto se utilizan los bucles ```while``` y ```for```."
   ]
  },
  {
   "cell_type": "markdown",
   "metadata": {},
   "source": [
    "El mecanismo para realizar bucles más simple es ```while```. Como el nombre lo indica, al dar una condición que el programa evalúa a ```True``` o ```False```, todo lo que se encuentre dentro del bucle se ejecutará **mientras se cumpla la condición**."
   ]
  },
  {
   "cell_type": "code",
   "execution_count": null,
   "metadata": {
    "scrolled": true,
    "tags": []
   },
   "outputs": [],
   "source": [
    "contador = 1\n",
    "while contador <= 5:\n",
    "    print('El contador va en', contador)\n",
    "    contador += 1"
   ]
  },
  {
   "cell_type": "markdown",
   "metadata": {},
   "source": [
    "En el ejemplo de arriba, se declara una variable que se llama ```contador```, la cual llevará una cuenta de las repeticiones del bucle. Luego se declara el bucle, poniendo como condición que el bucle se ejecutará solamente mientras el contador sea menor o igual que 5. Dentro del bucle, se imprime el número en el que va el contador, y *se le suma 1 al contador*. Debido a que con cada iteración el contador va a incrementar en 1, luego de 5 iteraciones *se termina el bucle*."
   ]
  },
  {
   "cell_type": "markdown",
   "metadata": {},
   "source": [
    "Pueden existir situaciones en las cuales no se sepa cuándo se cumplirá o no cierta condición, y cuando esto ocurra, se pueden utilizar los ***bucles infinitos*** siempre y cuando se declare un quiebre en el bucle con ```break```. Para el siguiente ejemplo se leerá input desde el usuario al programa con la función integrada ```input()``` y se capitalizará la primera letra. Para salir de este bucle, se utilizará la letra q."
   ]
  },
  {
   "cell_type": "code",
   "execution_count": null,
   "metadata": {
    "scrolled": true
   },
   "outputs": [],
   "source": [
    "while True:\n",
    "    palabras = str(input('Palabra a capitalizar (escriba q para salir): '))\n",
    "    if palabras == 'q':\n",
    "        break\n",
    "    else:\n",
    "        print(palabras.capitalize())"
   ]
  },
  {
   "cell_type": "markdown",
   "metadata": {},
   "source": [
    "La mayoría de los programas escritos en python ocupan este tipo de *iteradores*, ya que permiten (valga la redundancia) iterar sobre estructuras de datos sin la necesidad de saber qué tan grandes son o cómo se encuentran implementadas en el programa. Otro uso de los iteradores es *procesar datos que se crean con cada iteración*, disminuyendo así el uso de la memoria del computador.\n",
    "\n",
    "A continuación se mostrará cómo se itera con ```for ```a través de una variable ```string```, sin embargo, tanto ```while``` como ```for``` permiten la iteración sobre otros tipos de datos, como listas, tuples o diccionarios."
   ]
  },
  {
   "cell_type": "code",
   "execution_count": null,
   "metadata": {
    "scrolled": true,
    "tags": []
   },
   "outputs": [],
   "source": [
    "palabra = 'genetica'\n",
    "for letra in palabra:\n",
    "    '''\n",
    "    El uso de 'in' permite al programa buscar dentro de la estructura de datos o de la variable\n",
    "    '''\n",
    "    print(letra)"
   ]
  },
  {
   "cell_type": "code",
   "execution_count": null,
   "metadata": {
    "scrolled": true,
    "tags": []
   },
   "outputs": [],
   "source": [
    "lista_letras = ['g', 'e', 'n', 'e', 't', 'i', 'c', 'a']\n",
    "\n",
    "# Otro uso del bucle for\n",
    "lista_letras_2 = [letra for letra in palabra]\n",
    "\n",
    "print('¿Son iguales las dos listas?', lista_letras == lista_letras_2, '\\n')\n",
    "\n",
    "# Se pueden asignar funciones que se aplican a cada elemento\n",
    "lista_letras_2 = [letra.capitalize() for letra in palabra]\n",
    "\n",
    "print('¿Y ahora?', lista_letras == lista_letras_2, '\\n')\n",
    "\n",
    "# Para salir de un bucle 'for' es necesario introducir un quiebre utilizando 'break'\n",
    "print('En caso de que quiera imprimir las tres primeras letras debo introducir un quiebre')\n",
    "for letra in lista_letras:\n",
    "    if letra == 'n':\n",
    "        print(letra)\n",
    "        break\n",
    "    else:\n",
    "        print(letra)\n",
    "print('\\n')\n",
    "        \n",
    "# Para continuar con la ejecución del bucle e ignorar cierta condición se utiliza 'continue'\n",
    "for letra in lista_letras:\n",
    "    if letra != 'a':\n",
    "        continue\n",
    "        print('Esta línea no se ejecuta!')\n",
    "    else:\n",
    "        print('''Se encontró la letra 'a' ''')\n",
    "print('\\n')\n",
    "        \n",
    "# Existen casos en los cuales es necesario obtener el índice de los elementos\n",
    "for indice, valor in enumerate(lista_letras):\n",
    "    print('El elemento que se encuentra en el índice {} es {}'.format(indice, valor))\n",
    "print('\\n')\n",
    "\n",
    "# Una de las formas más utiles de utilizar los bucles 'for' es acoplándolos a un rango de valores utilizando\n",
    "# range()\n",
    "\n",
    "for numero in range(0, 5):\n",
    "    print('Número:', numero)\n",
    "print('\\n')\n",
    "for numero in range(2):\n",
    "    print('Número:', numero)\n",
    "print('\\n')\n",
    "for numero in range(0, 10, 2):\n",
    "    print('Número:', numero)"
   ]
  },
  {
   "cell_type": "code",
   "execution_count": null,
   "metadata": {},
   "outputs": [],
   "source": [
    "# para codigo extra"
   ]
  },
  {
   "cell_type": "code",
   "execution_count": null,
   "metadata": {},
   "outputs": [],
   "source": [
    "# para codigo extra"
   ]
  },
  {
   "cell_type": "code",
   "execution_count": null,
   "metadata": {},
   "outputs": [],
   "source": [
    "# para codigo extra"
   ]
  },
  {
   "cell_type": "markdown",
   "metadata": {},
   "source": [
    "### 4.3 Funciones <a name=\"subpunto4_3\"></a>"
   ]
  },
  {
   "cell_type": "markdown",
   "metadata": {},
   "source": [
    "Hasta ahora, todo el código escrito ha sido escrito en fragmentos. Estos fragmentos son útiles para llevar a cabo tareas pequeñas, pero si son tareas que se deben llevar a cabo varias veces en el programa se volverá tedioso escribir nuevamente el mismo código. El primer paso para la reutilización de código es construir una **función**, la cual es *una sección de código con nombre, separada del resto*. Una función puede tomar **parámetros** como input y retorna otros **resultados**.\n",
    "\n",
    "Es necesario llevar a cabo 2 pasos principales para construir una función:\n",
    "* *Definir* la función, con 0 o más parámetros.\n",
    "* *Llamar* la función, que retornará 0 o más resultados\n",
    "\n",
    "A continuación veremos ejemplos de uso de funciones"
   ]
  },
  {
   "cell_type": "code",
   "execution_count": null,
   "metadata": {
    "scrolled": true,
    "tags": []
   },
   "outputs": [],
   "source": [
    "# Para definir una función es necesario anteponer def al nombre que se le asignará a la función\n",
    "def saludo(nombre1, nombre2):\n",
    "    \n",
    "    '''\n",
    "    La función saludo imprime en pantalla un saludo al nombre1 y nombre2\n",
    "    \n",
    "    Argumentos:\n",
    "        nombre1: Nombre en formato string\n",
    "        nombre2: Nombre en formato string\n",
    "        \n",
    "    Retorna:\n",
    "        Saludo en formato string\n",
    "    '''\n",
    "    \n",
    "    print('Hola {} y {}'.format(nombre1, nombre2))\n",
    "    \n",
    "# Para ejecutar la función es necesario escribir el nombre de la función y llenar los parámetros necesarios\n",
    "saludo('Fernan', 'Valentina')"
   ]
  },
  {
   "cell_type": "markdown",
   "metadata": {},
   "source": [
    "Hay que tener varias consideraciones al definir funciones propias, algunas de las cuales se detallan en la siguiente lista:\n",
    "- Al definir una función, todo lo que se quiera ejecutar dentro de la función debe estar **indentado**.\n",
    "- Los parámetros de una función pueden ser obligatorios u opcionales.\n",
    "- Dentro de la función es posible:\n",
    "    * Definir variables (solamente se podran utilizar dentro de la misma función).\n",
    "    * Aplicar bucles ```while``` y/o ```for``` (cuidando poner las condiciones de término o de quiebre).\n",
    "    * Llamar otras funciones.\n",
    "- La función termina de ejecutarse cuando:\n",
    "    * Termina de ejecutar todo el código dentro de ella\n",
    "    * Se encuentra con la declaración de retorno (```return```). Al encontrar una declaración de retorno la función retorna lo declarado y no ejecuta más código (aunque hayan miles de líneas más).\n",
    "- En muchas situaciones es necesario crear varias funciones, sin tener claridad en lo que se ejecutará en cada una de ellas. Para estos casos se debe utilizar ```pass``` para que indicar una función (o bucle) vacía."
   ]
  },
  {
   "cell_type": "code",
   "execution_count": null,
   "metadata": {
    "tags": []
   },
   "outputs": [],
   "source": [
    "# Un ejemplo de una función que ejecuta otra función\n",
    "def ejecutar_saludo(funcion):\n",
    "    \n",
    "    '''\n",
    "    Esta función ejecuta la función saludo definida anteriormente\n",
    "    '''\n",
    "    \n",
    "    funcion('Fernan', 'Valentina')\n",
    "    \n",
    "ejecutar_saludo(saludo)"
   ]
  },
  {
   "cell_type": "code",
   "execution_count": null,
   "metadata": {},
   "outputs": [],
   "source": [
    "# Quizas agregar unos ejemplos más de qué se puede realizar con funciones"
   ]
  },
  {
   "cell_type": "code",
   "execution_count": null,
   "metadata": {},
   "outputs": [],
   "source": [
    "# para codigo extra"
   ]
  },
  {
   "cell_type": "code",
   "execution_count": null,
   "metadata": {},
   "outputs": [],
   "source": [
    "# para codigo extra"
   ]
  },
  {
   "cell_type": "code",
   "execution_count": null,
   "metadata": {},
   "outputs": [],
   "source": [
    "# para codigo extra"
   ]
  },
  {
   "cell_type": "markdown",
   "metadata": {},
   "source": [
    "## 5. Trabajando con datos y gráficos <a name=\"punto5\"></a>"
   ]
  },
  {
   "cell_type": "markdown",
   "metadata": {},
   "source": [
    "### 5.1 Pandas <a name=\"subpunto5_1\"></a>"
   ]
  },
  {
   "cell_type": "markdown",
   "metadata": {},
   "source": [
    "Pandas es un módulo de Python utilizado para el manejo y análisis de datos. Es especialmente util para el manejo de datos reales obtenidos a través de planillas Excel y/o bases de datos (por ejemplo de SQL). Pandas podría considerarse como un editor de bases de datos, capaz de manejar diferentes tipos y grupos de datos. \n",
    "\n",
    "Al importar o crear un grupo de datos, pandas crea una *estructura de datos* denominada **```DataFrame```**, la cual es una ***colección ordenada de columnas con nombres y tipos de datos*** . El propósito final es simplificar el manejo de datos que se encuentran en el ámbito cientifico y financiero, ya que pandas fue originalmente diseñado para trabajar con datos financieros (para lo cual hoy en día se utiliza mayoritariamente Excel)."
   ]
  },
  {
   "cell_type": "markdown",
   "metadata": {},
   "source": [
    "A continuación se ejemplifica la importación de una serie de datos desde un archivo ```.xlsx``` (Excel) y desde un archivo ```.csv``` (valores separados por comas) a una estructura de datos de Pandas. Además, se muestra qué atributos se le asignan a esta estructura y cómo se acceden a los datos guardados en ella."
   ]
  },
  {
   "cell_type": "code",
   "execution_count": null,
   "metadata": {},
   "outputs": [],
   "source": [
    "import pandas as pd\n",
    "\n",
    "archivo_csv = pd.read_csv('data/datos_de_prueba.csv', delimiter=';')\n",
    "archivo_excel = pd.read_excel('data/datos_de_prueba.xlsx')"
   ]
  },
  {
   "cell_type": "code",
   "execution_count": null,
   "metadata": {},
   "outputs": [],
   "source": [
    "def atributos_datos(datos):\n",
    "    \n",
    "    '''\n",
    "    Función que retorna algunas de las propiedades que se le asignan a una tabla importada con pandas\n",
    "    \n",
    "    Argumentos:\n",
    "        datos: variable de tipo DataFrame, resultado de importación de datos mediante pandas\n",
    "    \n",
    "    Retorna:\n",
    "        NoneType. La función solamente imprime en pantalla algunos de los atributos.\n",
    "    '''\n",
    "    \n",
    "    # Rango de datos; cuántos datos hay\n",
    "    print('Se retorna un objeto de tipo range, es decir, \\\n",
    "se puede realizar un bucle utilizando datos.index en lugar de range()')\n",
    "    print(datos.index)\n",
    "    print('\\n')\n",
    "    \n",
    "    # Nombres de columnas (si es que las hay)\n",
    "    #print(datos.columns)\n",
    "    print('Se retorna un objeto que muestra los nombres de cada columna y el tipo de datos \\\n",
    "que tiene cada una')\n",
    "    print(datos.dtypes)\n",
    "    print('\\n')\n",
    "    \n",
    "    # Arreglo de datos\n",
    "    print('Se retorna un objecto de tipo arreglo, el cual contiene todos los datos')\n",
    "    print(datos.values)\n",
    "    print('\\n')\n",
    "    \n",
    "    # Arreglo de datos especificos\n",
    "    print('Se retorna un objeto DataFrame solamente con las columnas que coincidan\\\n",
    "con el tipo de datos (en este caso datos de tipo float64)')\n",
    "    print(datos.select_dtypes('float64'))\n",
    "    print('\\n')\n",
    "    \n",
    "    # O si es necesario, se pueden obtener los datos por columnas con get\n",
    "    print('En este caso se retorna un objeto DataFrame con los datos pertenecientes \\\n",
    "a la columna numero 3')\n",
    "    # Recordar que se debe indicar el número a acceder con un offset de uno!\n",
    "    print(datos.get('Columna2'))\n",
    "    print('\\n')"
   ]
  },
  {
   "cell_type": "code",
   "execution_count": null,
   "metadata": {
    "tags": []
   },
   "outputs": [],
   "source": [
    "atributos_datos(archivo_excel)"
   ]
  },
  {
   "cell_type": "markdown",
   "metadata": {},
   "source": [
    "### 5.2 Numpy <a name=\"subpunto5_2\"></a>"
   ]
  },
  {
   "cell_type": "markdown",
   "metadata": {},
   "source": [
    "Numpy es quizás la razón por la cual Python es popular entre científicos. Como se explicó al principio de este cuadernillo, los programas escritos en python pueden demorar más tiempo en ejecutarse que un programa escrito en C o Java. El módulo de Numpy fue escrito con la finalidad de obtener la velocidad de C en Python para el manejo de datos en arreglos numéricos multidimensionales.\n",
    "\n",
    "La estructura base de Numpy es un arreglo multidimensional (```ndarray```), y una de sus particularidades es que cada elemento del arreglo **debe ser del mismo tipo de dato** (los arreglos hechos manualmente a partir de listas no deben cumplir esta condición).\n",
    "\n",
    "Un ejemplo de uso de arreglos multidimensionales es el procesamiento de imágenes hecho en Python. Cada imagen tiene datos ordenados en pixeles, y cada pixel tiene valores específicos de tonalidades rojas, verdes y azules (para una imagen RGB). Al cargar una imagen en Python, lo que se hace es *convertir los datos a un arreglo tri-dimensional*, y el arreglo resultante sería análogo a un cubo Rubik.\n",
    "\n",
    "Algunas de las razones por las cuales se utilizan estos arreglos se detallan a coninuación:\n",
    "- Los datos científicos generalmente consisten de largas secuencias de datos.\n",
    "- Los cálculos científicos que se realizan con estos datos generalmente incluyen operaciones matriciales, ajustes lineales y no lineales, simulaciones matemáticas, y otras técnicas que requieren una estructura de datos determinada.\n",
    "- **Numpy maneja los datos de sus arreglos con mayor velocidad que las listas de python**."
   ]
  },
  {
   "cell_type": "code",
   "execution_count": null,
   "metadata": {},
   "outputs": [],
   "source": [
    "import numpy as np"
   ]
  },
  {
   "cell_type": "code",
   "execution_count": null,
   "metadata": {
    "scrolled": true,
    "tags": []
   },
   "outputs": [],
   "source": [
    "# Para hacer un arreglo con Numpy\n",
    "arreglo_1 = np.array([1, 3, 5, 8, 13])\n",
    "print('Este es un arreglo Numpy (no se ve muy distinto a una lista de python):', arreglo_1, '\\n')\n",
    "\n",
    "# A continuación se encuentran algunos atributos de los arreglos Numpy\n",
    "print('Al igual que la estructura de Pandas, los arreglos Numpy poseen ciertos atributos como:')\n",
    "print('\\nUn número de dimensiones:', arreglo_1.ndim)\n",
    "print('Un número total de valores', arreglo_1.size)\n",
    "print('''Una 'forma' (en arreglos de mayores dimensiones se visualiza mejor):''', arreglo_1.shape)\n",
    "\n",
    "# Tiene cierta similitud con las listas\n",
    "print('\\nAl igual que en listas, es posible extraer un rango de elementos o un elemento en\\\n",
    "específico utilizando índices:', 'El quinto elemento es {}'.format(arreglo_1[4]))"
   ]
  },
  {
   "cell_type": "markdown",
   "metadata": {},
   "source": [
    "### 5.3 Matplotlib <a name=\"subpunto5_3\"></a>"
   ]
  },
  {
   "cell_type": "markdown",
   "metadata": {},
   "source": [
    "Matplotlib es un módulo de python orientado a la visualización de datos. Se basa en Numpy y se ha expandido para integrarse con otros módulos de utilidad, como SciPy (un paquete orientado a ciencia) o Scikit Learn (un paquete orientado o machine-learning). Una de sus características más importantes y útiles es la verastilidad que tiene, ya que funciona en la mayoría de los sistemas operativos y se adapta a distintos motores gráficos. \n",
    "\n",
    "En los últimos años ha dejado de ser utilizado de forma masiva y se han masificado herramientas de otros lenguajes, como ```ggplot``` y ```ggvis``` de R. También ha servido de base para otros módulos de visualización de datos de python, como Seaborn, ggpy, HoloViews y Altair. Sin embargo, el entender la sintaxis de matplotlib permite que le usuarie pueda ajustar un gráfico hasta quedar completamente conforme.\n",
    "\n",
    "Para utilizar este paquete, al igual que los anteriores, es necesario importarlo. Para esto se utiliza el comando ```import``` y se utilizará la abreviación ```plt``` para trabajar con el paquete. Además, Jupyter nos permite la visualización de gráficos *en línea*, es decir, junto a las líneas de código escritas. Para esto se debe utilizar el comando mágico ```%matplotlib inline``` luego de importar el módulo."
   ]
  },
  {
   "cell_type": "code",
   "execution_count": null,
   "metadata": {},
   "outputs": [],
   "source": [
    "import matplotlib.pyplot as plt\n",
    "%matplotlib inline"
   ]
  },
  {
   "cell_type": "markdown",
   "metadata": {},
   "source": [
    "Luego de esta celda, cualquier gráfico que se construya utilizando el comando ```plt``` se graficará en la celda de resultados. Ahora se puede graficar, por ejemplo, los datos que fueron importados anteriormente con pandas. Para esto, se transformaran los datos a arreglos de numpy utilizando la propiedad ```.get('nombre_columna').values``` lo cual en primer lugar **busca** los datos de la columna solicitada, y luego **transforma** estos datos a un arreglo de Numpy. Con los datos de la columna 2 (valores eje X) y la columna 3 (valores eje Y) se construirá el gráfico."
   ]
  },
  {
   "cell_type": "code",
   "execution_count": null,
   "metadata": {},
   "outputs": [],
   "source": [
    "# para codigo extra\n",
    "# Obtenemos los arreglos que vamos a utilizar\n",
    "valores_x = archivo_excel.get('Columna1').values\n",
    "valores_y = archivo_excel.get('Columna2').values\n",
    "\n",
    "plt.figure(figsize=(10,5), dpi=100)      # Acá se declara la figura a utilizar; todo lo que se escriba abajo se referirá a esta figura.\n",
    "plt.title('Gráfico de datos Excel')     # Esta línea es para poner un título al gráfico.\n",
    "plt.xlabel('Valores en X')              # Acá se define un nombre para el eje X.\n",
    "plt.ylabel('Valores en Y')              # Y acá para el eje Y.\n",
    "plt.plot(valores_x, valores_y)          # Con esta línea se grafican los datos en la figura."
   ]
  },
  {
   "cell_type": "markdown",
   "metadata": {},
   "source": [
    "Para realizar gráficos simples es más conveniente y rápido utilizar la interface original (utilizando ```plt.algun_atributo```). Sin embargo, el problema surge cuando se añade más de un gráfico. A continuación se ilustra cómo añadir más de un gráfico a una misma figura."
   ]
  },
  {
   "cell_type": "code",
   "execution_count": null,
   "metadata": {},
   "outputs": [],
   "source": [
    "# para código extra\n",
    "plt.figure(dpi=100)\n",
    "\n",
    "# Se crea el primer gráfico de la figura con subplot()\n",
    "plt.subplot(2, 1, 1)                # Importante destacar que subplot interpreta los números como: (filas, columnas, num_gráfico)\n",
    "plt.plot(valores_x, valores_y)      # Se utilizan los valores importados con pandas\n",
    "plt.title('A')\n",
    "\n",
    "# Se crea el segundo gráfico y todo el código que utilice .plt se referirá a la segunda figura de aquí en adelante\n",
    "plt.subplot(2, 1, 2)\n",
    "plt.plot(valores_y, valores_x)      # Se invierten los ejes\n",
    "plt.title('B')\n",
    "\n",
    "plt.tight_layout()                  # Esta función acomoda los gráficos automaticamente dentro de la figura para "
   ]
  },
  {
   "cell_type": "markdown",
   "metadata": {},
   "source": [
    "Para tener un mayor control sobre cuál figura se van a aplicar ciertos cambios, se puede utilizar la interfaz orientada a objetos de matplotlib. En vez de crear cada figura en un orden determinado, se construye un *objeto*, el cual contiene todos los gráficos que se utilizarán en la figura. Luego es posible interactuar y modificar estos gráficos identificando el índice de cada uno. \n",
    "\n",
    "A continuación se ilustra un ejemplo."
   ]
  },
  {
   "cell_type": "code",
   "execution_count": null,
   "metadata": {
    "tags": []
   },
   "outputs": [],
   "source": [
    "figura, ejes = plt.subplots(2, 1, figsize=(10,5))        # De manera similar al paso anterior, se declaran dos gráficos en la figura\n",
    "\n",
    "# Al imprmir 'ejes', debería retornar una lista con cada uno de los gráficos\n",
    "print(ejes)"
   ]
  },
  {
   "cell_type": "code",
   "execution_count": null,
   "metadata": {},
   "outputs": [],
   "source": [
    "# Si cada uno de los objetos es un gráfico, para trabajar con mayor facilidad se puede hacer lo siguiente:\n",
    "\n",
    "grafico_uno = ejes[0]       # Se asigna el nombre grafico_uno al primer objeto de la lista (primer gráfico)\n",
    "grafico_dos = ejes[1]       # Se asigna el nombre grafico_uno al segundo objeto de la lista (segundo gráfico)"
   ]
  },
  {
   "cell_type": "code",
   "execution_count": null,
   "metadata": {},
   "outputs": [],
   "source": [
    "grafico_uno.plot(valores_x, valores_y)       # Acá selecciono el primer gráfico, y grafico en el los valores de x e y\n",
    "\n",
    "# Para visualizar se llama a la figura\n",
    "figura"
   ]
  },
  {
   "cell_type": "code",
   "execution_count": null,
   "metadata": {},
   "outputs": [],
   "source": [
    "ejes[1].plot(valores_y, valores_x) # Acá selecciono el segundo gráfico y grafico en el los valores de y e x\n",
    "\n",
    "# Finalmente, llamamos nuevamente a la figura para visualizar los gráficos\n",
    "figura"
   ]
  },
  {
   "cell_type": "markdown",
   "metadata": {},
   "source": [
    "### Acá agregar info de cómo guardar imagenes/gráficos"
   ]
  },
  {
   "cell_type": "markdown",
   "metadata": {},
   "source": []
  }
 ],
 "metadata": {
  "kernelspec": {
   "display_name": "Python 3",
   "language": "python",
   "name": "python3"
  },
  "language_info": {
   "codemirror_mode": {
    "name": "ipython",
    "version": 3
   },
   "file_extension": ".py",
   "mimetype": "text/x-python",
   "name": "python",
   "nbconvert_exporter": "python",
   "pygments_lexer": "ipython3",
   "version": "3.7.7"
  }
 },
 "nbformat": 4,
 "nbformat_minor": 4
}