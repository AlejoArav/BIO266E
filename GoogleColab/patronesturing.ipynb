{
 "cells": [
  {
   "cell_type": "code",
   "execution_count": null,
   "metadata": {},
   "outputs": [],
   "source": [
    "import matplotlib.pyplot as plt\n",
    "import numpy as np\n",
    "from scipy import integrate\n",
    "import numba as nb\n",
    "import os"
   ]
  },
  {
   "cell_type": "markdown",
   "metadata": {},
   "source": [
    "# Ecuaciones modificadas del sistema de Turing\n",
    "\n",
    "$$\n",
    "\\begin{align}\n",
    "\\frac{\\partial u }{\\partial t} &= D_u \\nabla^2 u + f(u,v) \\\\\n",
    "\\frac{\\partial v }{\\partial t} &= D_v \\nabla^2 v + g(u,v)\n",
    "\\end{align}\n",
    "$$\n",
    "\n",
    "Donde $f(u,v)$ y $g(u,v)$ son funciones no lineales que describen la interacción entre las dos especies. En este caso, se utilizarán las siguientes funciones:\n",
    "\n",
    "$$\n",
    "\\begin{align}\n",
    "f(u,v) &= \\alpha(u - h) + \\beta(v - k) \\\\\n",
    "g(u,v) &= \\gamma(u - h) - \\epsilon(v - k)\n",
    "\\end{align}\n",
    "$$\n",
    "\n",
    "Donde $\\alpha$, $\\beta$, $\\gamma$, $\\epsilon$, $h$ y $k$ son constantes. Para este caso, se utilizarán los siguientes valores:\n",
    "\n",
    "$$\n",
    "\\begin{align}\n",
    "\\alpha &= 1.0 \\\\\n",
    "\\beta &= -1.0 \\\\\n",
    "\\gamma &= 2.0 \\\\\n",
    "\\epsilon &= -1.5 \\\\\n",
    "h &= 1.0 \\\\\n",
    "k &= 1.0 \\\\\n",
    "D_u &= 10^{-4} \\\\\n",
    "D_v &= 10^{-3}\n",
    "\\end{align}\n",
    "$$\n",
    "\n",
    "Ahora podemos escribir las ecuaciones completas del sistema:\n",
    "\n",
    "$$\n",
    "\\begin{align}\n",
    "\\frac{\\partial u }{\\partial t} &= D_u \\nabla^2 u + u(v - 1) - \\alpha \\\\\n",
    "\\frac{\\partial v }{\\partial t} &= D_v \\nabla^2 v + \\beta - uv\n",
    "\\end{align}\n",
    "$$"
   ]
  },
  {
   "cell_type": "markdown",
   "metadata": {},
   "source": [
    "## Cálculo del laplaciano en dos dimensiones\n",
    "\n",
    "Para calcular el laplaciano en dos dimensiones, se utiliza la siguiente aproximación:\n",
    "\n",
    "$$\n",
    "\\begin{align}\n",
    "\\nabla^2 u &= \\frac{u_{i+1,j} + u_{i-1,j} + u_{i,j+1} + u_{i,j-1} - 4u_{i,j}}{h^2} \\\\\n",
    "\\nabla^2 v &= \\frac{v_{i+1,j} + v_{i-1,j} + v_{i,j+1} + v_{i,j-1} - 4v_{i,j}}{h^2}\n",
    "\\end{align}\n",
    "$$\n",
    "\n",
    "Donde $h$ es el tamaño de la malla. En este caso, se utilizará una malla de $128 \\times 128$ puntos. Esta expansión se denomina _stencil_ y se puede visualizar de la siguiente manera:\n",
    "\n",
    "\n",
    "![Stencil](https://kyleniemeyer.github.io/ME373-book/_images/five-point-stencil.png)\n",
    "\n",
    "## Condiciones de frontera\n",
    "\n",
    "Para las condiciones de frontera, se utilizarán condiciones periódicas. Esto significa que los valores de la frontera izquierda serán iguales a los valores de la frontera derecha y los valores de la frontera superior serán iguales a los valores de la frontera inferior. Esto se puede visualizar de la siguiente manera:\n",
    "\n",
    "![Condiciones de frontera](https://www.researchgate.net/publication/318926585/figure/fig1/AS:960250047905799@1605952860161/Formation-of-virtual-torus-shape-in-a-lattice-with-periodic-boundary-conditions.gif)"
   ]
  },
  {
   "cell_type": "code",
   "execution_count": null,
   "metadata": {},
   "outputs": [],
   "source": [
    "# Definimos la función del laplaciano en 2 dimensiones\n",
    "@nb.jit(nopython=True)\n",
    "def laplaciano_PBC(field, N, dh2_inv, out):\n",
    "    \"\"\"\n",
    "    Calcula el laplaciano de un campo escalar en 2 dimensiones\n",
    "    \"\"\"\n",
    "    for i in range(N):\n",
    "        for j in range(N):\n",
    "            out[i, j] = (\n",
    "                field[(i + 1) % N, j]\n",
    "                + field[(i - 1) % N, j]\n",
    "                + field[i, (j + 1) % N]\n",
    "                + field[i, (j - 1) % N]\n",
    "                - 4 * field[i, j]\n",
    "                ) * dh2_inv\n",
    "    return out"
   ]
  },
  {
   "cell_type": "code",
   "execution_count": null,
   "metadata": {},
   "outputs": [],
   "source": [
    "# ------------------------------------------------------------\n",
    "# Parámetros del espacio de simulación\n",
    "# ------------------------------------------------------------\n",
    "# Tamaño de la malla\n",
    "N = 128\n",
    "# Tamaño del sistema\n",
    "L = 128\n",
    "# Paso espacial\n",
    "dh = L / N\n",
    "# Paso espacial al cuadrado\n",
    "dh2 = dh * dh\n",
    "# Inverso del paso espacial al cuadrado\n",
    "dh2_inv = 1.0 / dh2"
   ]
  },
  {
   "cell_type": "code",
   "execution_count": null,
   "metadata": {},
   "outputs": [],
   "source": [
    "# ------------------------------------------------------------\n",
    "# Parámetros del sistema\n",
    "# ------------------------------------------------------------\n",
    "alpha = 1.0\n",
    "beta = -1.0\n",
    "gamma = 2.0\n",
    "delta = -1.5\n",
    "h = 1.0\n",
    "k = 1.0\n",
    "Du = 1.0\n",
    "Dv = 5.0"
   ]
  },
  {
   "cell_type": "markdown",
   "metadata": {},
   "source": [
    "Los valores de los parámetros de arriba les permiten obtener un patrón autoorganizado de manchas en el espacio. Ustedes pueden cambiar los parámetros para ver como cambian los patrones.\n",
    "\n",
    "**Tip: Pueden cambiar la difusion de las especies para ver como cambian los patrones (puede probar utilizando valores entre 1e-2 y 10)**"
   ]
  },
  {
   "cell_type": "code",
   "execution_count": null,
   "metadata": {},
   "outputs": [],
   "source": [
    "# ------------------------------------------------------------\n",
    "# Parámetros de la simulación\n",
    "# ------------------------------------------------------------\n",
    "# Paso temporal\n",
    "dt = 0.01\n",
    "# Tiempo total de simulación\n",
    "T = 1500"
   ]
  },
  {
   "cell_type": "markdown",
   "metadata": {},
   "source": [
    "# Función para las condiciones iniciales del sistema"
   ]
  },
  {
   "cell_type": "code",
   "execution_count": null,
   "metadata": {},
   "outputs": [],
   "source": [
    "def inicializar():\n",
    "    global u, v, nextu, nextv, lapu, lapv\n",
    "\n",
    "    # Inicializamos los campos u y v con ruido aleatorio\n",
    "    u = np.ones((N, N)) + np.random.normal(-0.5, 0.5, size=(N, N))\n",
    "    v = np.ones((N, N)) + np.random.normal(-0.5, 0.5, size=(N, N))\n",
    "\n",
    "    # Inicializamos los campos nextu y nextv con ceros\n",
    "    nextu = np.zeros((N, N))\n",
    "    nextv = np.zeros((N, N))\n",
    "\n",
    "    # Además los arreglos donde guardaremos los laplacianos\n",
    "    lapu = np.zeros((N, N))\n",
    "    lapv = np.zeros((N, N))\n",
    "# ------------------------------------------------------------"
   ]
  },
  {
   "cell_type": "code",
   "execution_count": null,
   "metadata": {},
   "outputs": [],
   "source": [
    "# Podemos probar los campos iniciales\n",
    "inicializar()\n",
    "fig, ax = plt.subplots(1, 2, figsize=(4, 4), dpi=250)\n",
    "ax[0].imshow(u, cmap='viridis')\n",
    "ax[1].imshow(v, cmap='viridis')\n",
    "# Seteamos los títulos\n",
    "ax[0].set_title('Campo U')\n",
    "ax[1].set_title('Campo V')\n",
    "plt.tight_layout()\n",
    "plt.show()"
   ]
  },
  {
   "cell_type": "markdown",
   "metadata": {},
   "source": [
    "# Función para actualizar el sistema a cada dt"
   ]
  },
  {
   "cell_type": "code",
   "execution_count": null,
   "metadata": {},
   "outputs": [],
   "source": [
    "@nb.jit(nopython=True)\n",
    "def actualizar(u, v, nextu, nextv, lapu, lapv):\n",
    "    \n",
    "    # Calculamos el laplaciano de u y v\n",
    "    laplaciano_PBC(u, N, dh2_inv, lapu)\n",
    "    laplaciano_PBC(v, N, dh2_inv, lapv)\n",
    "\n",
    "    # Actualizamos los campos u y v\n",
    "    nextu = u + dt * (Du * lapu + alpha * (u - h) + beta * (v - k))\n",
    "    nextv = v + dt * (Dv * lapv + gamma * (u - h) + delta * (v - k))\n",
    "\n",
    "    # Actualizamos los campos u y v\n",
    "    u, nextu = nextu, u\n",
    "    v, nextv = nextv, v\n",
    "\n",
    "    return u, v, nextu, nextv"
   ]
  },
  {
   "cell_type": "markdown",
   "metadata": {},
   "source": [
    "# Simulacion del sistema"
   ]
  },
  {
   "cell_type": "code",
   "execution_count": null,
   "metadata": {},
   "outputs": [],
   "source": [
    "# Crearemos una carpeta para guardar las imágenes\n",
    "if not os.path.exists('imagenesTuring'):\n",
    "    os.mkdir('imagenesTuring')\n",
    "\n",
    "# Primero, inicializamos los campos\n",
    "inicializar()\n",
    "\n",
    "# Creamos una figura\n",
    "fig, ax = plt.subplots(1, 2, figsize=(8, 8), dpi=100)\n",
    "\n",
    "# Iteramos sobre el tiempo\n",
    "for i in range(T):\n",
    "    # Actualizamos los campos\n",
    "    u, v, nextu, nextv = actualizar(u, v, nextu, nextv, lapu, lapv)\n",
    "\n",
    "    # Cada 20 iteraciones, guardamos una imagen\n",
    "    if i % 20 == 0:\n",
    "        ax[0].imshow(u, cmap='viridis')\n",
    "        ax[1].imshow(v, cmap='viridis')\n",
    "        ax[0].set_title('Campo U')\n",
    "        ax[1].set_title('Campo V')\n",
    "        plt.savefig('imagenesTuring/{:04d}.png'.format(i // 10))"
   ]
  },
  {
   "cell_type": "markdown",
   "metadata": {},
   "source": [
    "## Guardamos un video de la simulación"
   ]
  },
  {
   "cell_type": "code",
   "execution_count": null,
   "metadata": {},
   "outputs": [],
   "source": [
    "# Primero recopilamos todos los nombres de los archivos en la carpeta imagenesTuring\n",
    "files = []\n",
    "for filename in os.listdir('imagenesTuring'):\n",
    "    if filename.endswith('.png'):\n",
    "        files.append('imagenesTuring/' + filename)\n",
    "\n",
    "# Ordenamos los nombres de los archivos\n",
    "files.sort()\n",
    "\n",
    "# Creamos el video con Imageio\n",
    "import imageio\n",
    "with imageio.get_writer('turing.mp4', fps=15) as writer:\n",
    "    for filename in files:\n",
    "        image = imageio.imread(filename)\n",
    "        writer.append_data(image)"
   ]
  },
  {
   "cell_type": "markdown",
   "metadata": {},
   "source": [
    "# Tarea 1B. Patrones espaciales"
   ]
  },
  {
   "cell_type": "markdown",
   "metadata": {},
   "source": [
    "Para esta tarea, deberán implementar un sistema de ecuaciones de reacción-difusión en dos dimensiones. El sistema de ecuaciones es el siguiente:\n",
    "\n",
    "$$\n",
    "\\begin{align}\n",
    "\\frac{\\partial u }{\\partial t} &= D_u \\nabla^2 u + f(u,v) \\\\\n",
    "\\frac{\\partial v }{\\partial t} &= D_v \\nabla^2 v + g(u,v)\n",
    "\\end{align}\n",
    "$$\n",
    "\n",
    "Donde las funciones $f(u,v)$ y $g(u,v)$ son las siguientes:\n",
    "\n",
    "$$\n",
    "\\begin{align}\n",
    "f(u,v) &= u - u^3 - v + k\\\\\n",
    "g(u,v) &= \\frac{u - v}{\\tau}\n",
    "\\end{align}\n",
    "$$\n",
    "\n",
    "Donde $f$, $q$, $D_u$ y $D_v$ son constantes. Para este caso, se utilizarán los siguientes valores:\n",
    "\n",
    "$$\n",
    "\\begin{align}\n",
    "f &= 1.0 \\\\\n",
    "q &= 10^{-3} \\\\\n",
    "D_u &= 10^{-4} \\\\\n",
    "D_v &= 10^{-4}\n",
    "\\end{align}\n",
    "$$\n",
    "\n",
    "Para implementar el sistema se les recomienda utilizar el código previo que está en este cuadernillo, y además les incluimos la funcion de inicialización del sistema. Las partes que deben implementar se detallan con signos de interrrogación.\n",
    "\n",
    "Tip:\n",
    "\n",
    "El sistema de ecuaciones que deben implementar es el siguiente:\n",
    "\n",
    "$$\n",
    "\\begin{align}\n",
    "\\frac{\\partial u }{\\partial t} &= D_u \\nabla^2 u + u - u^3 - v + k\\\\\n",
    "\\frac{\\partial v }{\\partial t} &= \\frac{D_v \\nabla^2 v + u - v}{\\tau}\n",
    "\\end{align}\n",
    "$$"
   ]
  },
  {
   "cell_type": "code",
   "execution_count": null,
   "metadata": {},
   "outputs": [],
   "source": [
    "# ------------------------------------------------------------\n",
    "# Parámetros del espacio de simulación\n",
    "# ------------------------------------------------------------\n",
    "# Tamaño de la malla\n",
    "N = 100\n",
    "# Tamaño del sistema\n",
    "L = 2\n",
    "# Paso espacial\n",
    "dh = L / N\n",
    "# Paso espacial al cuadrado\n",
    "dh2 = dh * dh\n",
    "# Inverso del paso espacial al cuadrado\n",
    "dh2_inv = 1.0 / dh2"
   ]
  },
  {
   "cell_type": "code",
   "execution_count": null,
   "metadata": {},
   "outputs": [],
   "source": [
    "inicialesx, inicialesy = np.meshgrid(np.arange(0, L, dh), np.arange(0, L, dh))\n",
    "\n",
    "def inicializar():\n",
    "    global u, v, nextu, nextv, lapu, lapv\n",
    "\n",
    "    # Inicializamos los campos u y v con ruido aleatorio\n",
    "    u = np.random.rand(N, N)\n",
    "    v = np.random.rand(N, N)\n",
    "\n",
    "    # Inicializamos los campos nextu y nextv con ceros\n",
    "    nextu = np.zeros((N, N))\n",
    "    nextv = np.zeros((N, N))\n",
    "\n",
    "    # Además los arreglos donde guardaremos los laplacianos\n",
    "    lapu = np.zeros((N, N))\n",
    "    lapv = np.zeros((N, N))"
   ]
  },
  {
   "cell_type": "code",
   "execution_count": null,
   "metadata": {},
   "outputs": [],
   "source": [
    "# Definimos los parámetros del sistema (ESTOS LOS PUEDEN VARIAR Y OBSERVAR QUÉ LE PASA AL SISTEMA)\n",
    "k = -0.005\n",
    "tau = 0.1\n",
    "Du = 2.8e-4\n",
    "Dv = 5e-3\n",
    "\n",
    "# Definimos la función de reacción\n",
    "@nb.jit(nopython=True)\n",
    "def reaccion(u, v, nextu, nextv, lapu, lapv):\n",
    "\n",
    "    # Calcular el laplaciano de u y v\n",
    "    ?\n",
    "    ?\n",
    "\n",
    "    # Actualicen los campos u y v\n",
    "    ?\n",
    "    ?\n",
    "\n",
    "    # Actualizamos los campos para la siguiente iteración\n",
    "    ?\n",
    "    ?\n",
    "\n",
    "    return ?, ?, ?, ?"
   ]
  },
  {
   "cell_type": "code",
   "execution_count": null,
   "metadata": {},
   "outputs": [],
   "source": [
    "# ------------------------------------------------------------\n",
    "# Parámetros de la simulación\n",
    "# ------------------------------------------------------------\n",
    "# Paso temporal\n",
    "dt = 0.001\n",
    "# Tiempo total de simulación\n",
    "T = 10000"
   ]
  },
  {
   "cell_type": "code",
   "execution_count": null,
   "metadata": {},
   "outputs": [],
   "source": [
    "# Verificamos si existe un directorio para las imágenes\n",
    "if not os.path.exists('imagenesTarea'):\n",
    "    os.mkdir('imagenesTarea')\n",
    "\n",
    "# Primero, inicializamos los campos\n",
    "inicializar()\n",
    "\n",
    "# Creamos una figura\n",
    "fig, ax = plt.subplots(1, 2, figsize=(8, 8), dpi=100)\n",
    "\n",
    "# Iteramos sobre el tiempo\n",
    "for i in range(T):\n",
    "    # Actualizamos los campos\n",
    "    u, v, nextu, nextv = reaccion(u, v, nextu, nextv, lapu, lapv)\n",
    "\n",
    "    # Cada 50 iteraciones, guardamos una imagen e imprimimos que vamos en el tiempo i del total T\n",
    "    if i % 50 == 0:\n",
    "        ax[0].imshow(u, cmap='viridis')\n",
    "        ax[1].imshow(v, cmap='viridis')\n",
    "        ax[0].set_title('Campo U')\n",
    "        ax[1].set_title('Campo V')\n",
    "        plt.savefig('imagenesTarea/{:04d}.png'.format(i // 10))\n",
    "        print('Iteración {:04d} de {:04d}'.format(i, T))"
   ]
  },
  {
   "cell_type": "code",
   "execution_count": null,
   "metadata": {},
   "outputs": [],
   "source": [
    "# Primero recopilamos todos los nombres de los archivos en la carpeta imagenesTuring\n",
    "files = []\n",
    "for filename in os.listdir('imagenesTarea'):\n",
    "    if filename.endswith('.png'):\n",
    "        files.append('imagenesTarea/' + filename)\n",
    "\n",
    "# Ordenamos los nombres de los archivos\n",
    "files.sort()\n",
    "\n",
    "# Creamos el video con Imageio\n",
    "import imageio\n",
    "with imageio.get_writer('videoTarea.mp4', fps=10) as writer:\n",
    "    for filename in files:\n",
    "        image = imageio.imread(filename)\n",
    "        writer.append_data(image)"
   ]
  }
 ],
 "metadata": {
  "kernelspec": {
   "display_name": "base",
   "language": "python",
   "name": "python3"
  },
  "language_info": {
   "codemirror_mode": {
    "name": "ipython",
    "version": 3
   },
   "file_extension": ".py",
   "mimetype": "text/x-python",
   "name": "python",
   "nbconvert_exporter": "python",
   "pygments_lexer": "ipython3",
   "version": "3.10.12"
  }
 },
 "nbformat": 4,
 "nbformat_minor": 2
}
